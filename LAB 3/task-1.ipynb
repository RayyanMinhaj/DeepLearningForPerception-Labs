{
 "cells": [
  {
   "cell_type": "markdown",
   "metadata": {},
   "source": [
    "# Rayyan Minhaj (20K-0143 | BCS-8B)\n",
    "## Deep Learning for Perception - Lab 3 (Tasks)\n",
    "### Task 1 - Running the Code"
   ]
  },
  {
   "cell_type": "code",
   "execution_count": 1,
   "metadata": {},
   "outputs": [],
   "source": [
    "import numpy as np\n",
    "import matplotlib.pyplot as plt\n",
    "import pandas as pd \n",
    "from sklearn import preprocessing\n",
    "from sklearn.preprocessing import MinMaxScaler\n",
    "from sklearn import metrics\n",
    "from sklearn.metrics import confusion_matrix\n",
    "import itertools\n",
    "\n",
    "np.set_printoptions(threshold=np.inf)\n",
    "\n",
    "%matplotlib inline\n",
    "%load_ext autoreload\n",
    "%autoreload 2"
   ]
  },
  {
   "cell_type": "code",
   "execution_count": 2,
   "metadata": {},
   "outputs": [],
   "source": [
    "def plotCf(a,b,t):\n",
    "    cf =confusion_matrix(a,b)\n",
    "    plt.imshow(cf,cmap=plt.cm.Blues,interpolation='nearest')\n",
    "    plt.colorbar()\n",
    "    plt.title(t)\n",
    "    plt.xlabel('Predicted')\n",
    "    plt.ylabel('Actual')\n",
    "    tick_marks = np.arange(len(set(a))) # length of classes\n",
    "    class_labels = ['0','1']\n",
    "    plt.xticks(tick_marks,class_labels)\n",
    "    plt.yticks(tick_marks,class_labels)\n",
    "    thresh = cf.max() / 2.\n",
    "    for i,j in itertools.product(range(cf.shape[0]),range(cf.shape[1])):\n",
    "        plt.text(j,i,format(cf[i,j],'d'),horizontalalignment='center',color='white' if cf[i,j] >thresh else 'black')\n",
    "    plt.show();"
   ]
  },
  {
   "cell_type": "code",
   "execution_count": 3,
   "metadata": {},
   "outputs": [],
   "source": [
    "def Sigmoid(Z):\n",
    "    return 1/(1+np.exp(-Z))\n",
    "\n",
    "def Relu(Z):\n",
    "    return np.maximum(0,Z)\n",
    "\n",
    "def dRelu2(dZ, Z):    \n",
    "    dZ[Z <= 0] = 0    \n",
    "    return dZ\n",
    "\n",
    "def dRelu(x):\n",
    "    x[x<=0] = 0\n",
    "    x[x>0] = 1\n",
    "    return x\n",
    "\n",
    "def dSigmoid(Z):\n",
    "    s = 1/(1+np.exp(-Z))\n",
    "    dZ = s * (1-s)\n",
    "    return dZ\n",
    "\n",
    "class dlnet:\n",
    "    def __init__(self, x, y):\n",
    "        self.debug = 0;\n",
    "        self.X=x\n",
    "        self.Y=y\n",
    "        self.Yh=np.zeros((1,self.Y.shape[1])) \n",
    "        self.L=2\n",
    "        self.dims = [9, 15, 1] \n",
    "        self.param = {}\n",
    "        self.ch = {}\n",
    "        self.grad = {}\n",
    "        self.loss = []\n",
    "        self.lr=0.003\n",
    "        self.sam = self.Y.shape[1]\n",
    "        self.threshold=0.5\n",
    "        \n",
    "    def nInit(self):    \n",
    "        np.random.seed(1)\n",
    "        self.param['W1'] = np.random.randn(self.dims[1], self.dims[0]) / np.sqrt(self.dims[0]) \n",
    "        self.param['b1'] = np.zeros((self.dims[1], 1))        \n",
    "        self.param['W2'] = np.random.randn(self.dims[2], self.dims[1]) / np.sqrt(self.dims[1]) \n",
    "        self.param['b2'] = np.zeros((self.dims[2], 1))                \n",
    "        return \n",
    "\n",
    "    def forward(self):    \n",
    "        Z1 = self.param['W1'].dot(self.X) + self.param['b1'] \n",
    "        A1 = Relu(Z1)\n",
    "        self.ch['Z1'],self.ch['A1']=Z1,A1\n",
    "        \n",
    "        Z2 = self.param['W2'].dot(A1) + self.param['b2']  \n",
    "        A2 = Sigmoid(Z2)\n",
    "        self.ch['Z2'],self.ch['A2']=Z2,A2\n",
    "\n",
    "        self.Yh=A2\n",
    "        loss=self.nloss(A2)\n",
    "        return self.Yh, loss\n",
    "\n",
    "    def nloss(self,Yh):\n",
    "        loss = (1./self.sam) * (-np.dot(self.Y,np.log(Yh).T) - np.dot(1-self.Y, np.log(1-Yh).T))    \n",
    "        return loss\n",
    "\n",
    "    def backward(self):\n",
    "        dLoss_Yh = - (np.divide(self.Y, self.Yh ) - np.divide(1 - self.Y, 1 - self.Yh))    \n",
    "        \n",
    "        dLoss_Z2 = dLoss_Yh * dSigmoid(self.ch['Z2'])    \n",
    "        dLoss_A1 = np.dot(self.param[\"W2\"].T,dLoss_Z2)\n",
    "        dLoss_W2 = 1./self.ch['A1'].shape[1] * np.dot(dLoss_Z2,self.ch['A1'].T)\n",
    "        dLoss_b2 = 1./self.ch['A1'].shape[1] * np.dot(dLoss_Z2, np.ones([dLoss_Z2.shape[1],1])) \n",
    "                            \n",
    "        dLoss_Z1 = dLoss_A1 * dRelu(self.ch['Z1'])        \n",
    "        dLoss_A0 = np.dot(self.param[\"W1\"].T,dLoss_Z1)\n",
    "        dLoss_W1 = 1./self.X.shape[1] * np.dot(dLoss_Z1,self.X.T)\n",
    "        dLoss_b1 = 1./self.X.shape[1] * np.dot(dLoss_Z1, np.ones([dLoss_Z1.shape[1],1]))  \n",
    "        \n",
    "        self.param[\"W1\"] = self.param[\"W1\"] - self.lr * dLoss_W1\n",
    "        self.param[\"b1\"] = self.param[\"b1\"] - self.lr * dLoss_b1\n",
    "        self.param[\"W2\"] = self.param[\"W2\"] - self.lr * dLoss_W2\n",
    "        self.param[\"b2\"] = self.param[\"b2\"] - self.lr * dLoss_b2\n",
    "        \n",
    "        return\n",
    "\n",
    "\n",
    "    def pred(self,x, y):  \n",
    "        self.X=x\n",
    "        self.Y=y\n",
    "        comp = np.zeros((1,x.shape[1]))\n",
    "        pred, loss= self.forward()    \n",
    "    \n",
    "        for i in range(0, pred.shape[1]):\n",
    "            if pred[0,i] > self.threshold: comp[0,i] = 1\n",
    "            else: comp[0,i] = 0\n",
    "    \n",
    "        print(\"Acc: \" + str(np.sum((comp == y)/x.shape[1])))\n",
    "        \n",
    "        return comp\n",
    "    \n",
    "    def gd(self,X, Y, iter = 3000):\n",
    "        np.random.seed(1)                         \n",
    "    \n",
    "        self.nInit()\n",
    "    \n",
    "        for i in range(0, iter):\n",
    "            Yh, loss=self.forward()\n",
    "            self.backward()\n",
    "        \n",
    "            if i % 500 == 0:\n",
    "                print (\"Cost after iteration %i: %f\" %(i, loss))\n",
    "                self.loss.append(loss)\n",
    "\n",
    "        plt.plot(np.squeeze(self.loss))\n",
    "        plt.ylabel('Loss')\n",
    "        plt.xlabel('Iter')\n",
    "        plt.title(\"Lr =\" + str(self.lr))\n",
    "        plt.show()\n",
    "    \n",
    "        return "
   ]
  },
  {
   "cell_type": "markdown",
   "metadata": {},
   "source": [
    "## Preparing Data"
   ]
  },
  {
   "cell_type": "code",
   "execution_count": 4,
   "metadata": {},
   "outputs": [],
   "source": [
    "df = pd.read_csv('wisconsin-cancer-dataset.csv',header=None)\n",
    "df = df[~df[6].isin(['?'])]\n",
    "df = df.astype(float)\n",
    "df.iloc[:,10].replace(2, 0,inplace=True)\n",
    "df.iloc[:,10].replace(4, 1,inplace=True)\n",
    "\n",
    "df.head(3)\n",
    "scaled_df=df\n",
    "names = df.columns[0:10]\n",
    "scaler = MinMaxScaler() \n",
    "scaled_df = scaler.fit_transform(df.iloc[:,0:10]) \n",
    "scaled_df = pd.DataFrame(scaled_df, columns=names)"
   ]
  },
  {
   "cell_type": "code",
   "execution_count": 5,
   "metadata": {},
   "outputs": [
    {
     "name": "stdout",
     "output_type": "stream",
     "text": [
      "(683, 11) (9, 500) (1, 500) (9, 182) (1, 182)\n"
     ]
    }
   ],
   "source": [
    "x=scaled_df.iloc[0:500,1:10].values.transpose()\n",
    "y=df.iloc[0:500,10:].values.transpose()\n",
    "\n",
    "xval=scaled_df.iloc[501:683,1:10].values.transpose()\n",
    "yval=df.iloc[501:683,10:].values.transpose()\n",
    "\n",
    "print(df.shape, x.shape, y.shape, xval.shape, yval.shape)\n",
    "\n",
    "nn = dlnet(x,y)\n",
    "nn.lr=0.07\n",
    "nn.dims = [9, 15, 1]"
   ]
  },
  {
   "cell_type": "code",
   "execution_count": 6,
   "metadata": {},
   "outputs": [
    {
     "name": "stdout",
     "output_type": "stream",
     "text": [
      "Cost after iteration 0: 0.673967\n",
      "Cost after iteration 500: 0.122093\n",
      "Cost after iteration 1000: 0.108469\n",
      "Cost after iteration 1500: 0.103673\n",
      "Cost after iteration 2000: 0.100911\n",
      "Cost after iteration 2500: 0.099047\n",
      "Cost after iteration 3000: 0.097530\n",
      "Cost after iteration 3500: 0.096368\n",
      "Cost after iteration 4000: 0.095480\n",
      "Cost after iteration 4500: 0.094744\n",
      "Cost after iteration 5000: 0.094015\n",
      "Cost after iteration 5500: 0.093277\n",
      "Cost after iteration 6000: 0.092611\n",
      "Cost after iteration 6500: 0.091953\n",
      "Cost after iteration 7000: 0.091279\n",
      "Cost after iteration 7500: 0.090472\n",
      "Cost after iteration 8000: 0.089574\n",
      "Cost after iteration 8500: 0.088575\n",
      "Cost after iteration 9000: 0.087426\n",
      "Cost after iteration 9500: 0.086303\n",
      "Cost after iteration 10000: 0.085122\n",
      "Cost after iteration 10500: 0.084010\n",
      "Cost after iteration 11000: 0.083025\n",
      "Cost after iteration 11500: 0.082001\n",
      "Cost after iteration 12000: 0.080948\n",
      "Cost after iteration 12500: 0.079923\n",
      "Cost after iteration 13000: 0.078909\n",
      "Cost after iteration 13500: 0.077922\n",
      "Cost after iteration 14000: 0.076943\n",
      "Cost after iteration 14500: 0.075973\n",
      "Cost after iteration 15000: 0.074995\n",
      "Cost after iteration 15500: 0.073944\n",
      "Cost after iteration 16000: 0.071908\n",
      "Cost after iteration 16500: 0.070665\n",
      "Cost after iteration 17000: 0.069438\n",
      "Cost after iteration 17500: 0.068322\n",
      "Cost after iteration 18000: 0.067292\n",
      "Cost after iteration 18500: 0.066307\n",
      "Cost after iteration 19000: 0.065351\n",
      "Cost after iteration 19500: 0.064394\n",
      "Cost after iteration 20000: 0.063385\n",
      "Cost after iteration 20500: 0.062418\n",
      "Cost after iteration 21000: 0.061473\n",
      "Cost after iteration 21500: 0.060553\n",
      "Cost after iteration 22000: 0.059662\n",
      "Cost after iteration 22500: 0.058792\n",
      "Cost after iteration 23000: 0.057941\n",
      "Cost after iteration 23500: 0.057108\n",
      "Cost after iteration 24000: 0.056286\n",
      "Cost after iteration 24500: 0.055492\n",
      "Cost after iteration 25000: 0.054718\n",
      "Cost after iteration 25500: 0.053962\n",
      "Cost after iteration 26000: 0.053226\n",
      "Cost after iteration 26500: 0.052496\n",
      "Cost after iteration 27000: 0.051793\n",
      "Cost after iteration 27500: 0.051108\n",
      "Cost after iteration 28000: 0.050464\n",
      "Cost after iteration 28500: 0.049839\n",
      "Cost after iteration 29000: 0.049230\n",
      "Cost after iteration 29500: 0.048652\n",
      "Cost after iteration 30000: 0.048097\n",
      "Cost after iteration 30500: 0.047555\n",
      "Cost after iteration 31000: 0.047022\n",
      "Cost after iteration 31500: 0.046492\n",
      "Cost after iteration 32000: 0.045980\n",
      "Cost after iteration 32500: 0.045480\n",
      "Cost after iteration 33000: 0.044989\n",
      "Cost after iteration 33500: 0.044509\n",
      "Cost after iteration 34000: 0.044038\n",
      "Cost after iteration 34500: 0.043574\n",
      "Cost after iteration 35000: 0.043116\n",
      "Cost after iteration 35500: 0.042659\n",
      "Cost after iteration 36000: 0.042204\n",
      "Cost after iteration 36500: 0.041756\n",
      "Cost after iteration 37000: 0.041319\n",
      "Cost after iteration 37500: 0.040703\n",
      "Cost after iteration 38000: 0.040103\n",
      "Cost after iteration 38500: 0.039508\n",
      "Cost after iteration 39000: 0.038938\n",
      "Cost after iteration 39500: 0.038385\n",
      "Cost after iteration 40000: 0.037832\n",
      "Cost after iteration 40500: 0.037278\n",
      "Cost after iteration 41000: 0.036739\n",
      "Cost after iteration 41500: 0.036198\n",
      "Cost after iteration 42000: 0.035660\n",
      "Cost after iteration 42500: 0.035130\n",
      "Cost after iteration 43000: 0.034601\n",
      "Cost after iteration 43500: 0.034066\n",
      "Cost after iteration 44000: 0.033414\n",
      "Cost after iteration 44500: 0.032821\n",
      "Cost after iteration 45000: 0.032259\n",
      "Cost after iteration 45500: 0.031707\n",
      "Cost after iteration 46000: 0.031173\n",
      "Cost after iteration 46500: 0.030656\n",
      "Cost after iteration 47000: 0.030150\n",
      "Cost after iteration 47500: 0.029661\n",
      "Cost after iteration 48000: 0.029183\n",
      "Cost after iteration 48500: 0.028709\n",
      "Cost after iteration 49000: 0.028239\n",
      "Cost after iteration 49500: 0.027777\n",
      "Cost after iteration 50000: 0.027324\n",
      "Cost after iteration 50500: 0.026883\n",
      "Cost after iteration 51000: 0.026450\n",
      "Cost after iteration 51500: 0.026030\n",
      "Cost after iteration 52000: 0.025618\n",
      "Cost after iteration 52500: 0.025215\n",
      "Cost after iteration 53000: 0.024821\n",
      "Cost after iteration 53500: 0.024434\n",
      "Cost after iteration 54000: 0.024053\n",
      "Cost after iteration 54500: 0.023679\n",
      "Cost after iteration 55000: 0.023313\n",
      "Cost after iteration 55500: 0.022952\n",
      "Cost after iteration 56000: 0.022598\n",
      "Cost after iteration 56500: 0.022250\n",
      "Cost after iteration 57000: 0.021906\n",
      "Cost after iteration 57500: 0.021568\n",
      "Cost after iteration 58000: 0.021236\n",
      "Cost after iteration 58500: 0.020776\n",
      "Cost after iteration 59000: 0.020371\n",
      "Cost after iteration 59500: 0.020000\n",
      "Cost after iteration 60000: 0.019671\n",
      "Cost after iteration 60500: 0.019352\n",
      "Cost after iteration 61000: 0.018956\n",
      "Cost after iteration 61500: 0.018534\n",
      "Cost after iteration 62000: 0.018150\n",
      "Cost after iteration 62500: 0.017782\n",
      "Cost after iteration 63000: 0.017409\n",
      "Cost after iteration 63500: 0.017076\n",
      "Cost after iteration 64000: 0.016762\n",
      "Cost after iteration 64500: 0.016443\n",
      "Cost after iteration 65000: 0.016081\n",
      "Cost after iteration 65500: 0.015735\n",
      "Cost after iteration 66000: 0.015406\n",
      "Cost after iteration 66500: 0.015090\n"
     ]
    },
    {
     "data": {
      "image/png": "[encoded data removed]",
      "text/plain": [
       "<Figure size 432x288 with 1 Axes>"
      ]
     },
     "metadata": {
      "needs_background": "light"
     },
     "output_type": "display_data"
    }
   ],
   "source": [
    "nn.gd(x, y, iter = 67000)"
   ]
  },
  {
   "cell_type": "code",
   "execution_count": 7,
   "metadata": {},
   "outputs": [
    {
     "name": "stdout",
     "output_type": "stream",
     "text": [
      "Acc: 1.0000000000000004\n",
      "Acc: 0.9945054945054945\n"
     ]
    }
   ],
   "source": [
    "pred_train = nn.pred(x, y)\n",
    "pred_test = nn.pred(xval, yval)"
   ]
  },
  {
   "cell_type": "code",
   "execution_count": 9,
   "metadata": {},
   "outputs": [
    {
     "name": "stdout",
     "output_type": "stream",
     "text": [
      "Acc: 1.0000000000000004\n"
     ]
    },
    {
     "data": {
      "image/png": "[encoded data removed]",
      "text/plain": [
       "<Figure size 432x288 with 2 Axes>"
      ]
     },
     "metadata": {
      "needs_background": "light"
     },
     "output_type": "display_data"
    },
    {
     "name": "stdout",
     "output_type": "stream",
     "text": [
      "Acc: 0.9945054945054945\n"
     ]
    },
    {
     "data": {
      "image/png": "[encoded data removed]",
      "text/plain": [
       "<Figure size 432x288 with 2 Axes>"
      ]
     },
     "metadata": {
      "needs_background": "light"
     },
     "output_type": "display_data"
    }
   ],
   "source": [
    "nn.threshold=0.5\n",
    "\n",
    "nn.X,nn.Y=x, y \n",
    "target=np.around(np.squeeze(y), decimals=0).astype(int)\n",
    "predicted=np.around(np.squeeze(nn.pred(x,y)), decimals=0).astype(int)\n",
    "plotCf(target,predicted,'Cf Training Set')\n",
    "\n",
    "nn.X,nn.Y=xval, yval \n",
    "target=np.around(np.squeeze(yval), decimals=0).astype(int)\n",
    "predicted=np.around(np.squeeze(nn.pred(xval,yval)), decimals=0).astype(int)\n",
    "plotCf(target,predicted,'Cf Validation Set')"
   ]
  },
  {
   "cell_type": "code",
   "execution_count": 10,
   "metadata": {},
   "outputs": [
    {
     "name": "stdout",
     "output_type": "stream",
     "text": [
      "Acc: 0.9960000000000003\n"
     ]
    },
    {
     "data": {
      "image/png": "[encoded data removed]",
      "text/plain": [
       "<Figure size 432x288 with 2 Axes>"
      ]
     },
     "metadata": {
      "needs_background": "light"
     },
     "output_type": "display_data"
    },
    {
     "name": "stdout",
     "output_type": "stream",
     "text": [
      "Acc: 0.9945054945054945\n"
     ]
    },
    {
     "data": {
      "image/png": "[encoded data removed]",
      "text/plain": [
       "<Figure size 432x288 with 2 Axes>"
      ]
     },
     "metadata": {
      "needs_background": "light"
     },
     "output_type": "display_data"
    }
   ],
   "source": [
    "nn.threshold=0.7\n",
    "\n",
    "nn.X,nn.Y=x, y \n",
    "target=np.around(np.squeeze(y), decimals=0).astype(int)\n",
    "predicted=np.around(np.squeeze(nn.pred(x,y)), decimals=0).astype(int)\n",
    "plotCf(target,predicted,'Cf Training Set')\n",
    "\n",
    "nn.X,nn.Y=xval, yval \n",
    "target=np.around(np.squeeze(yval), decimals=0).astype(int)\n",
    "predicted=np.around(np.squeeze(nn.pred(xval,yval)), decimals=0).astype(int)\n",
    "plotCf(target,predicted,'Cf Validation Set')"
   ]
  },
  {
   "cell_type": "code",
   "execution_count": 14,
   "metadata": {},
   "outputs": [
    {
     "name": "stdout",
     "output_type": "stream",
     "text": [
      "Acc: 0.9840000000000003\n"
     ]
    },
    {
     "data": {
      "image/png": "[encoded data removed]",
      "text/plain": [
       "<Figure size 432x288 with 2 Axes>"
      ]
     },
     "metadata": {
      "needs_background": "light"
     },
     "output_type": "display_data"
    },
    {
     "name": "stdout",
     "output_type": "stream",
     "text": [
      "Acc: 0.9945054945054945\n"
     ]
    },
    {
     "data": {
      "image/png": "[encoded data removed]",
      "text/plain": [
       "<Figure size 432x288 with 2 Axes>"
      ]
     },
     "metadata": {
      "needs_background": "light"
     },
     "output_type": "display_data"
    }
   ],
   "source": [
    "nn.threshold=0.9\n",
    "\n",
    "nn.X,nn.Y=x, y \n",
    "target=np.around(np.squeeze(y), decimals=0).astype(int)\n",
    "predicted=np.around(np.squeeze(nn.pred(x,y)), decimals=0).astype(int)\n",
    "plotCf(target,predicted,'Cf Training Set')\n",
    "\n",
    "nn.X,nn.Y=xval, yval \n",
    "target=np.around(np.squeeze(yval), decimals=0).astype(int)\n",
    "predicted=np.around(np.squeeze(nn.pred(xval,yval)), decimals=0).astype(int)\n",
    "plotCf(target,predicted,'Cf Validation Set')"
   ]
  },
  {
   "cell_type": "code",
   "execution_count": 13,
   "metadata": {},
   "outputs": [
    {
     "name": "stdout",
     "output_type": "stream",
     "text": [
      "\n",
      "y [[0 0 0 1 0 0 1 1 0 0 0 0 0 0 1 0 0 0 0 0 0 0 0 0 0 0 0 0 0 0 1 0 0 1 0 0\n",
      "  0 0 0 0 0 0 0 0 0 0 0 0 0 1]]\n",
      "\n",
      "yh [[0 0 0 1 0 0 1 1 0 0 0 0 0 0 1 0 0 0 0 0 0 0 0 0 0 0 0 0 0 0 1 0 0 1 0 0\n",
      "  0 0 0 0 0 0 0 0 0 0 0 0 0 1]] \n",
      "\n"
     ]
    }
   ],
   "source": [
    "nn.X,nn.Y=xval, yval \n",
    "yvalh, loss = nn.forward()\n",
    "print(\"\\ny\",np.around(yval[:,0:50,], decimals=0).astype(int))       \n",
    "print(\"\\nyh\",np.around(yvalh[:,0:50,], decimals=0).astype(int),\"\\n\")         "
   ]
  },
  {
   "cell_type": "code",
   "execution_count": null,
   "metadata": {},
   "outputs": [],
   "source": []
  }
 ],
 "metadata": {
  "kernelspec": {
   "display_name": "tf",
   "language": "python",
   "name": "python3"
  },
  "language_info": {
   "codemirror_mode": {
    "name": "ipython",
    "version": 3
   },
   "file_extension": ".py",
   "mimetype": "text/x-python",
   "name": "python",
   "nbconvert_exporter": "python",
   "pygments_lexer": "ipython3",
   "version": "3.9.7"
  }
 },
 "nbformat": 4,
 "nbformat_minor": 2
}
