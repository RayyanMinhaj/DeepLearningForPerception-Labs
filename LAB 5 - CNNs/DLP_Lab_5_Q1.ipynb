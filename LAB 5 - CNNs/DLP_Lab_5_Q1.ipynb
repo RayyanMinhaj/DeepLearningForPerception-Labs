{
  "nbformat": 4,
  "nbformat_minor": 0,
  "metadata": {
    "colab": {
      "provenance": []
    },
    "kernelspec": {
      "name": "python3",
      "display_name": "Python 3"
    },
    "language_info": {
      "name": "python"
    }
  },
  "cells": [
    {
      "cell_type": "markdown",
      "source": [
        "#Rayyan Minhaj (20K-0143 | BCS-8B)"
      ],
      "metadata": {
        "id": "mh_FJYgXB-tT"
      }
    },
    {
      "cell_type": "markdown",
      "source": [
        "## Q2 - Convolution Operation on a 5x5 image using a 2x2 Filter"
      ],
      "metadata": {
        "id": "aMeWuBAWB4xE"
      }
    },
    {
      "cell_type": "code",
      "source": [
        "import numpy as np\n",
        "\n",
        "arr = np.array([[1,2,3,4,5],\n",
        "                [6,7,8,9,10],\n",
        "                [11,12,13,14,15],\n",
        "                [16,17,18,19,20],\n",
        "                [21,22,23,24,25]])\n",
        "\n",
        "\n",
        "filter = np.array([[1,0],\n",
        "                   [0,1]])"
      ],
      "metadata": {
        "id": "ZLOaJvZgEyDB"
      },
      "execution_count": 27,
      "outputs": []
    },
    {
      "cell_type": "code",
      "execution_count": 43,
      "metadata": {
        "id": "M7qylbNPBzff",
        "colab": {
          "base_uri": "https://localhost:8080/"
        },
        "outputId": "8ddabd58-701c-48fb-d065-f32c332b8b86"
      },
      "outputs": [
        {
          "output_type": "stream",
          "name": "stdout",
          "text": [
            "Enter Stride: 1\n",
            "Enter padding: 2\n",
            "\n",
            "\n",
            "[[ 0  0  0  0  0  0  0  0  0]\n",
            " [ 0  0  0  0  0  0  0  0  0]\n",
            " [ 0  0  1  2  3  4  5  0  0]\n",
            " [ 0  0  6  7  8  9 10  0  0]\n",
            " [ 0  0 11 12 13 14 15  0  0]\n",
            " [ 0  0 16 17 18 19 20  0  0]\n",
            " [ 0  0 21 22 23 24 25  0  0]\n",
            " [ 0  0  0  0  0  0  0  0  0]\n",
            " [ 0  0  0  0  0  0  0  0  0]]\n"
          ]
        }
      ],
      "source": [
        "stride = int(input(\"Enter Stride: \"))\n",
        "padding = int(input(\"Enter padding: \"))\n",
        "\n",
        "arr_padded = np.pad(arr, pad_width=padding, mode='constant', constant_values=0)\n",
        "\n",
        "print(\"\\n\")\n",
        "print(arr_padded)\n"
      ]
    },
    {
      "cell_type": "code",
      "source": [
        "np.shape(arr_padded)[0]"
      ],
      "metadata": {
        "colab": {
          "base_uri": "https://localhost:8080/"
        },
        "id": "roIK4DJCNjfG",
        "outputId": "505deb3f-c0f0-4370-e722-a3368f3d92a1"
      },
      "execution_count": 44,
      "outputs": [
        {
          "output_type": "execute_result",
          "data": {
            "text/plain": [
              "9"
            ]
          },
          "metadata": {},
          "execution_count": 44
        }
      ]
    },
    {
      "cell_type": "markdown",
      "source": [
        "![image.png](data:image/png;base64,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)"
      ],
      "metadata": {
        "id": "TerfDIcTphXn"
      }
    },
    {
      "cell_type": "code",
      "source": [
        "op_dim_y = int((np.shape(arr)[1] - 2 + 2*padding)/stride) + 1 #where 2 is the dim of filter\n",
        "op_dim_x = int((np.shape(arr)[0] - 2 + 2*padding)/stride) + 1\n",
        "\n",
        "\n",
        "\n",
        "output_matrix = np.zeros((op_dim_x, op_dim_y))\n",
        "print(output_matrix)\n"
      ],
      "metadata": {
        "colab": {
          "base_uri": "https://localhost:8080/"
        },
        "id": "pN88tbfHR7YJ",
        "outputId": "dc064b81-d056-46d7-ecbc-39356f224f25"
      },
      "execution_count": 45,
      "outputs": [
        {
          "output_type": "stream",
          "name": "stdout",
          "text": [
            "[[0. 0. 0. 0. 0. 0. 0. 0.]\n",
            " [0. 0. 0. 0. 0. 0. 0. 0.]\n",
            " [0. 0. 0. 0. 0. 0. 0. 0.]\n",
            " [0. 0. 0. 0. 0. 0. 0. 0.]\n",
            " [0. 0. 0. 0. 0. 0. 0. 0.]\n",
            " [0. 0. 0. 0. 0. 0. 0. 0.]\n",
            " [0. 0. 0. 0. 0. 0. 0. 0.]\n",
            " [0. 0. 0. 0. 0. 0. 0. 0.]]\n"
          ]
        }
      ]
    },
    {
      "cell_type": "code",
      "source": [
        "def convolution_func(arr_padded, filter, output_matrix, stride):\n",
        "    filter_height, filter_width = filter.shape\n",
        "    input_height, input_width = arr_padded.shape\n",
        "\n",
        "    for i in range(0, input_height - filter_height + 1, stride):\n",
        "        for j in range(0, input_width - filter_width + 1, stride):\n",
        "\n",
        "            # Extract the region of interest from the input array\n",
        "            region = arr_padded[i:i+filter_height, j:j+filter_width]\n",
        "\n",
        "            # Perform element-wise multiplication and sum\n",
        "            output_value = np.sum(region * filter)\n",
        "\n",
        "            # Calculate output indices\n",
        "            output_i = i // stride\n",
        "            output_j = j // stride\n",
        "\n",
        "            # Assign the result to the output matrix\n",
        "            output_matrix[output_i, output_j] = output_value\n",
        "\n",
        "    return output_matrix\n",
        "\n",
        ""
      ],
      "metadata": {
        "id": "dX6vy5pGUUbD"
      },
      "execution_count": 46,
      "outputs": []
    },
    {
      "cell_type": "code",
      "source": [
        "output_matrix = convolution_func(arr_padded, filter, output_matrix, stride)"
      ],
      "metadata": {
        "id": "eH3tbv-xnyAc"
      },
      "execution_count": 47,
      "outputs": []
    },
    {
      "cell_type": "code",
      "source": [
        "print(\"Output matrix after convolution:\")\n",
        "print(output_matrix)\n",
        "print(\"\\n\")\n"
      ],
      "metadata": {
        "colab": {
          "base_uri": "https://localhost:8080/"
        },
        "id": "D1MYC8dKn6Qa",
        "outputId": "09c6b0ee-ca39-4acb-f7dd-936c665c0424"
      },
      "execution_count": 59,
      "outputs": [
        {
          "output_type": "stream",
          "name": "stdout",
          "text": [
            "Output matrix after convolution:\n",
            "[[ 0.  0.  0.  0.  0.  0.  0.  0.]\n",
            " [ 0.  1.  2.  3.  4.  5.  0.  0.]\n",
            " [ 0.  6.  8. 10. 12. 14.  5.  0.]\n",
            " [ 0. 11. 18. 20. 22. 24. 10.  0.]\n",
            " [ 0. 16. 28. 30. 32. 34. 15.  0.]\n",
            " [ 0. 21. 38. 40. 42. 44. 20.  0.]\n",
            " [ 0.  0. 21. 22. 23. 24. 25.  0.]\n",
            " [ 0.  0.  0.  0.  0.  0.  0.  0.]]\n",
            "\n",
            "\n"
          ]
        }
      ]
    },
    {
      "cell_type": "code",
      "source": [],
      "metadata": {
        "id": "sAAvBLbGn4OF"
      },
      "execution_count": null,
      "outputs": []
    },
    {
      "cell_type": "code",
      "source": [],
      "metadata": {
        "id": "bjxrE-GIpbMT"
      },
      "execution_count": null,
      "outputs": []
    }
  ]
}